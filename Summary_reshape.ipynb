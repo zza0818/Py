{
  "nbformat": 4,
  "nbformat_minor": 0,
  "metadata": {
    "colab": {
      "name": "Summary_reshape.ipynb",
      "version": "0.3.2",
      "provenance": [],
      "private_outputs": true,
      "collapsed_sections": [],
      "include_colab_link": true
    },
    "kernelspec": {
      "name": "python3",
      "display_name": "Python 3"
    }
  },
  "cells": [
    {
      "cell_type": "markdown",
      "metadata": {
        "id": "view-in-github",
        "colab_type": "text"
      },
      "source": [
        "<a href=\"https://colab.research.google.com/github/zza0818/Py/blob/master/Summary_reshape.ipynb\" target=\"_parent\"><img src=\"https://colab.research.google.com/assets/colab-badge.svg\" alt=\"Open In Colab\"/></a>"
      ]
    },
    {
      "metadata": {
        "id": "lqnBISOFFSrE",
        "colab_type": "text"
      },
      "cell_type": "markdown",
      "source": [
        "### Please run in Google colab"
      ]
    },
    {
      "metadata": {
        "id": "AqzPzj2XoupD",
        "colab_type": "toc"
      },
      "cell_type": "markdown",
      "source": [
        ">>>[Please run in Google colab](#scrollTo=lqnBISOFFSrE)\n",
        "\n",
        ">>[Tips about reshape()](#scrollTo=BY7GkE4AqeCQ)\n",
        "\n",
        ">>>[reshape(-1,1) & reshape(1,-1)](#scrollTo=cSQNAPYHqoXI)\n",
        "\n",
        ">>>>[열벡터 (column vector)로 변환](#scrollTo=jrBbiVoor14k)\n",
        "\n",
        ">>>[행벡터와 열벡터](#scrollTo=ohGedoxis96c)\n",
        "\n",
        ">>>[2차원 배열 만들기](#scrollTo=ZfGNl4Kstjmr)\n",
        "\n",
        ">>>[reshape of a list](#scrollTo=HPksuy_tpfp8)\n",
        "\n",
        ">>>[2차원 배열(2-d array)](#scrollTo=xrAsEwcLTcdo)\n",
        "\n",
        ">>[응용: 손글씨 데이터 처리](#scrollTo=VogQ62Cvuqek)\n",
        "\n",
        ">>>[Upload data of 100 hand-wriiten digits (digits100.csv)](#scrollTo=mit7a1JN6Ul8)\n",
        "\n",
        ">>>[행벡터(1X784)를 이미지 배열 (28X28)로 재구성](#scrollTo=HVmKVrN-CCBN)\n",
        "\n",
        ">>>[모든 숫자 보기](#scrollTo=dOel4Jb_ECE0)\n",
        "\n"
      ]
    },
    {
      "metadata": {
        "id": "BY7GkE4AqeCQ",
        "colab_type": "text"
      },
      "cell_type": "markdown",
      "source": [
        "## Tips about reshape()\n",
        "\n",
        "> reshape() 함수는 numpy의 ndarray의 구조를 변경한다."
      ]
    },
    {
      "metadata": {
        "id": "cSQNAPYHqoXI",
        "colab_type": "text"
      },
      "cell_type": "markdown",
      "source": [
        "### reshape(-1,1) & reshape(1,-1)"
      ]
    },
    {
      "metadata": {
        "id": "WEDCW1oFqaw6",
        "colab_type": "code",
        "colab": {}
      },
      "cell_type": "code",
      "source": [
        "import numpy as np\n",
        "ar = np.arange(1,11)\n",
        "ar"
      ],
      "execution_count": 0,
      "outputs": []
    },
    {
      "metadata": {
        "id": "A4tXzZN12lpE",
        "colab_type": "code",
        "colab": {}
      },
      "cell_type": "code",
      "source": [
        "ar.shape  # numpy의 기본 벡터로 정의된 ar은 열벡터와 유사함."
      ],
      "execution_count": 0,
      "outputs": []
    },
    {
      "metadata": {
        "id": "jrBbiVoor14k",
        "colab_type": "text"
      },
      "cell_type": "markdown",
      "source": [
        "#### 열벡터 (column vector)로 변환"
      ]
    },
    {
      "metadata": {
        "id": "ALEDJNeIqbua",
        "colab_type": "code",
        "colab": {}
      },
      "cell_type": "code",
      "source": [
        "ar.reshape(-1,1)"
      ],
      "execution_count": 0,
      "outputs": []
    },
    {
      "metadata": {
        "id": "hKmZCz2Lxldd",
        "colab_type": "code",
        "colab": {}
      },
      "cell_type": "code",
      "source": [
        "ar.shape"
      ],
      "execution_count": 0,
      "outputs": []
    },
    {
      "metadata": {
        "id": "2tCt0NS62tod",
        "colab_type": "code",
        "colab": {}
      },
      "cell_type": "code",
      "source": [
        "ar1=ar.reshape(-1,1)  # 열벡터, column vector\n",
        "ar1.shape"
      ],
      "execution_count": 0,
      "outputs": []
    },
    {
      "metadata": {
        "id": "ohGedoxis96c",
        "colab_type": "text"
      },
      "cell_type": "markdown",
      "source": [
        "### 행벡터와 열벡터"
      ]
    },
    {
      "metadata": {
        "id": "3tHu9XzhsmcF",
        "colab_type": "text"
      },
      "cell_type": "markdown",
      "source": [
        "![행벡터와 열벡터](https://t1.daumcdn.net/cfile/tistory/2263234756624EC625)"
      ]
    },
    {
      "metadata": {
        "id": "ZfGNl4Kstjmr",
        "colab_type": "text"
      },
      "cell_type": "markdown",
      "source": [
        "### 2차원 배열 만들기"
      ]
    },
    {
      "metadata": {
        "id": "ez9haRJS18Pk",
        "colab_type": "code",
        "colab": {}
      },
      "cell_type": "code",
      "source": [
        "ar.reshape(-1,5,2)  # 5행2열 (5 X 2) 행렬"
      ],
      "execution_count": 0,
      "outputs": []
    },
    {
      "metadata": {
        "id": "H1YNqaa12Kel",
        "colab_type": "code",
        "colab": {}
      },
      "cell_type": "code",
      "source": [
        "ar.reshape(-1,2,5)  # 2행5열 (2 X 5) 행렬"
      ],
      "execution_count": 0,
      "outputs": []
    },
    {
      "metadata": {
        "id": "IDL6FddMEqJ0",
        "colab_type": "code",
        "colab": {}
      },
      "cell_type": "code",
      "source": [
        "ar.reshape((2,5))"
      ],
      "execution_count": 0,
      "outputs": []
    },
    {
      "metadata": {
        "id": "HPksuy_tpfp8",
        "colab_type": "text"
      },
      "cell_type": "markdown",
      "source": [
        "### reshape of a list"
      ]
    },
    {
      "metadata": {
        "id": "4iLyPjA4pjzs",
        "colab_type": "code",
        "colab": {}
      },
      "cell_type": "code",
      "source": [
        "alist = list(ar)\n",
        "alist"
      ],
      "execution_count": 0,
      "outputs": []
    },
    {
      "metadata": {
        "id": "RPI9NxHbpvr8",
        "colab_type": "code",
        "colab": {}
      },
      "cell_type": "code",
      "source": [
        "ar.reshape(-1,2,5)"
      ],
      "execution_count": 0,
      "outputs": []
    },
    {
      "metadata": {
        "id": "JiYsB_Ewp2Zj",
        "colab_type": "code",
        "colab": {}
      },
      "cell_type": "code",
      "source": [
        "alist.reshape(-1,2,5)"
      ],
      "execution_count": 0,
      "outputs": []
    },
    {
      "metadata": {
        "id": "DN18xgjrvC8W",
        "colab_type": "text"
      },
      "cell_type": "markdown",
      "source": [
        ">  list는 reshape()를 지원하지 않는다."
      ]
    },
    {
      "metadata": {
        "id": "xrAsEwcLTcdo",
        "colab_type": "text"
      },
      "cell_type": "markdown",
      "source": [
        "### 2차원 배열(2-d array)"
      ]
    },
    {
      "metadata": {
        "id": "gI9X6eFNTga4",
        "colab_type": "code",
        "colab": {}
      },
      "cell_type": "code",
      "source": [
        "br = np.arange(1,101)\n",
        "br.shape"
      ],
      "execution_count": 0,
      "outputs": []
    },
    {
      "metadata": {
        "id": "DVs9l6VAToY3",
        "colab_type": "code",
        "colab": {}
      },
      "cell_type": "code",
      "source": [
        "br2 = br.reshape(-1,5)\n",
        "br2.shape"
      ],
      "execution_count": 0,
      "outputs": []
    },
    {
      "metadata": {
        "id": "AWZF2J_QTzYg",
        "colab_type": "code",
        "colab": {}
      },
      "cell_type": "code",
      "source": [
        "br2"
      ],
      "execution_count": 0,
      "outputs": []
    },
    {
      "metadata": {
        "id": "pXLUC19U2TZ8",
        "colab_type": "code",
        "colab": {}
      },
      "cell_type": "code",
      "source": [
        "br.reshape(-1,20)"
      ],
      "execution_count": 0,
      "outputs": []
    },
    {
      "metadata": {
        "id": "VogQ62Cvuqek",
        "colab_type": "text"
      },
      "cell_type": "markdown",
      "source": [
        "## 응용: 손글씨 데이터 처리"
      ]
    },
    {
      "metadata": {
        "id": "mit7a1JN6Ul8",
        "colab_type": "text"
      },
      "cell_type": "markdown",
      "source": [
        "### Upload data of 100 hand-wriiten digits (digits100.csv)"
      ]
    },
    {
      "metadata": {
        "id": "oErUTDEOul1d",
        "colab_type": "code",
        "colab": {}
      },
      "cell_type": "code",
      "source": [
        "from google.colab import files\n",
        "\n",
        "uploaded = files.upload()\n",
        "\n",
        "for fn in uploaded.keys():\n",
        "  print('User uploaded file \"{name}\" with length {length} bytes'.format(\n",
        "      name=fn, length=len(uploaded[fn])))"
      ],
      "execution_count": 0,
      "outputs": []
    },
    {
      "metadata": {
        "id": "E4eNMvh06fV8",
        "colab_type": "code",
        "colab": {}
      },
      "cell_type": "code",
      "source": [
        "import pandas as pd\n",
        "df=pd.read_csv('digits100.csv', sep=',') #, index_col=False) #,header=None)\n",
        "df.shape"
      ],
      "execution_count": 0,
      "outputs": []
    },
    {
      "metadata": {
        "id": "ZOoM35Ks75Qk",
        "colab_type": "code",
        "colab": {}
      },
      "cell_type": "code",
      "source": [
        "digits = df.values  # Convert dataframe to ndarray"
      ],
      "execution_count": 0,
      "outputs": []
    },
    {
      "metadata": {
        "id": "Q5FJVAOv_dh2",
        "colab_type": "code",
        "colab": {}
      },
      "cell_type": "code",
      "source": [
        "digits[15].shape"
      ],
      "execution_count": 0,
      "outputs": []
    },
    {
      "metadata": {
        "id": "HVmKVrN-CCBN",
        "colab_type": "text"
      },
      "cell_type": "markdown",
      "source": [
        "### 행벡터(1X784)를 이미지 배열 (28X28)로 재구성"
      ]
    },
    {
      "metadata": {
        "id": "i4Cd9SfBAnaT",
        "colab_type": "code",
        "colab": {}
      },
      "cell_type": "code",
      "source": [
        "digits[15].reshape(28,28)"
      ],
      "execution_count": 0,
      "outputs": []
    },
    {
      "metadata": {
        "id": "CrNmce2SC_zE",
        "colab_type": "code",
        "colab": {}
      },
      "cell_type": "code",
      "source": [
        "# 맷플롯립 설정\n",
        "%matplotlib inline\n",
        "import matplotlib\n",
        "import matplotlib.pyplot as plt"
      ],
      "execution_count": 0,
      "outputs": []
    },
    {
      "metadata": {
        "id": "NKD---s58stM",
        "colab_type": "code",
        "colab": {}
      },
      "cell_type": "code",
      "source": [
        "# 맷플롯립의 imshow()로 숫자 이미지 보기\n",
        "some_digit = digits[77]\n",
        "some_digit_image = some_digit.reshape(28,28)\n",
        "plt.imshow(some_digit_image, cmap=matplotlib.cm.binary, interpolation=\"nearest\")\n",
        "plt.axis(\"off\")\n",
        "plt.show()"
      ],
      "execution_count": 0,
      "outputs": []
    },
    {
      "metadata": {
        "id": "dOel4Jb_ECE0",
        "colab_type": "text"
      },
      "cell_type": "markdown",
      "source": [
        "### 모든 숫자 보기"
      ]
    },
    {
      "metadata": {
        "id": "pfsd9h8t_U-d",
        "colab_type": "code",
        "colab": {}
      },
      "cell_type": "code",
      "source": [
        "# 숫자 그림을 위한 추가 함수\n",
        "def plot_digits(instances, images_per_row=10, **options):\n",
        "    size = 28\n",
        "    images_per_row = min(len(instances), images_per_row)\n",
        "    images = [instance.reshape(size,size) for instance in instances]\n",
        "    n_rows = (len(instances) - 1) // images_per_row + 1\n",
        "    row_images = []\n",
        "    n_empty = n_rows * images_per_row - len(instances)\n",
        "    images.append(np.zeros((size, size * n_empty)))\n",
        "    for row in range(n_rows):\n",
        "        rimages = images[row * images_per_row : (row + 1) * images_per_row]\n",
        "        row_images.append(np.concatenate(rimages, axis=1))\n",
        "    image = np.concatenate(row_images, axis=0)\n",
        "    plt.imshow(image, cmap = matplotlib.cm.binary, **options)\n",
        "    plt.axis(\"off\")"
      ],
      "execution_count": 0,
      "outputs": []
    },
    {
      "metadata": {
        "id": "Ww1wqyJFEK38",
        "colab_type": "code",
        "colab": {}
      },
      "cell_type": "code",
      "source": [
        "plt.figure(figsize=(10,10))\n",
        "plot_digits(digits, images_per_row=10)\n",
        "plt.show()"
      ],
      "execution_count": 0,
      "outputs": []
    },
    {
      "metadata": {
        "id": "qU47Gc_CEWa0",
        "colab_type": "code",
        "colab": {}
      },
      "cell_type": "code",
      "source": [
        ""
      ],
      "execution_count": 0,
      "outputs": []
    }
  ]
}